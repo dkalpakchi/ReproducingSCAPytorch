{
 "cells": [
  {
   "cell_type": "code",
   "execution_count": 101,
   "metadata": {},
   "outputs": [],
   "source": [
    "import math\n",
    "import torch\n",
    "import torch.nn as nn\n",
    "import torch.nn.functional as F\n",
    "\n",
    "\n",
    "class Critic(nn.Module):\n",
    "    def __init__(self, args, n_theta, n_classes=5):\n",
    "        super(Critic, self).__init__()\n",
    "        self.__args = args\n",
    "        self.__n_classes = n_classes\n",
    "        self.__n_theta = n_theta\n",
    "        self.__kernel_size = 2\n",
    "        \n",
    "        for i in range(5):\n",
    "            setattr(self, f'_conv{i}', nn.Conv1d(\n",
    "                in_channels=i * 8 + 1,\n",
    "                out_channels=8,\n",
    "                kernel_size=self.__kernel_size,\n",
    "                dilation=2 ** i,\n",
    "                padding=math.floor(2 ** (i - 1) * (self.__kernel_size - 1))\n",
    "            )) # padding?, activation function?\n",
    "            \n",
    "        out = 5 * 8 + 1\n",
    "        self._fc1 = nn.Linear(out * self.__n_classes, out * self.__n_classes)\n",
    "        self._fc2 = nn.Linear(out * self.__n_classes, 1)\n",
    "        \n",
    "        \n",
    "    def conv_forward(self, x):\n",
    "        x = x.unsqueeze(1) # add channels\n",
    "        x1 = F.pad(x, (0, 1)) # really?\n",
    "        for i in range(5):\n",
    "            layer = getattr(self, f'_conv{i}')\n",
    "            y = F.relu(layer(x1 if i == 0 else x))\n",
    "            x = torch.cat((x, y), 1)\n",
    "        return x.flatten(1)\n",
    "        \n",
    "    def forward(self, predictions, theta):\n",
    "        x = predictions # TODO: add theta and maybe g?\n",
    "        x = self.conv_forward(x)\n",
    "        print(x)\n",
    "        x = F.relu(self._fc1(x))\n",
    "        return self._fc2(x)"
   ]
  },
  {
   "cell_type": "code",
   "execution_count": 121,
   "metadata": {},
   "outputs": [],
   "source": [
    "x = torch.randn(10, 5)\n",
    "x.requires_grad = True\n",
    "\n",
    "c = Critic({}, None)\n",
    "L = c(x, None).mean()"
   ]
  },
  {
   "cell_type": "code",
   "execution_count": 106,
   "metadata": {},
   "outputs": [],
   "source": [
    "x.grad"
   ]
  },
  {
   "cell_type": "code",
   "execution_count": null,
   "metadata": {},
   "outputs": [],
   "source": []
  }
 ],
 "metadata": {
  "kernelspec": {
   "display_name": "Python 3",
   "language": "python",
   "name": "python3"
  },
  "language_info": {
   "codemirror_mode": {
    "name": "ipython",
    "version": 3
   },
   "file_extension": ".py",
   "mimetype": "text/x-python",
   "name": "python",
   "nbconvert_exporter": "python",
   "pygments_lexer": "ipython3",
   "version": "3.6.9"
  }
 },
 "nbformat": 4,
 "nbformat_minor": 2
}
