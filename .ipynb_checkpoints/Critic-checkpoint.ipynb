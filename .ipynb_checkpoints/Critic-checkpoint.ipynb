{
 "cells": [
  {
   "cell_type": "code",
   "execution_count": 1,
   "metadata": {},
   "outputs": [],
   "source": [
    "import math\n",
    "import torch\n",
    "import torch.nn as nn\n",
    "import torch.nn.functional as F\n",
    "\n",
    "\n",
    "class Critic(nn.Module):\n",
    "    def __init__(self, args, n_theta, n_classes=5):\n",
    "        super(Critic, self).__init__()\n",
    "        self.__args = args\n",
    "        self.__n_classes = n_classes\n",
    "        self.__n_theta = n_theta\n",
    "        self.__kernel_size = 2\n",
    "        \n",
    "        for i in range(5):\n",
    "            setattr(self, f'_conv{i}', nn.Conv1d(\n",
    "                in_channels=i * 8 + 1,\n",
    "                out_channels=8,\n",
    "                kernel_size=self.__kernel_size,\n",
    "                dilation=2 ** i\n",
    "            )) # padding?, activation function?\n",
    "        \n",
    "    def conv_forward(self, x):\n",
    "        x = x.unsqueeze(1) # add channels\n",
    "        \n",
    "        for i in range(5):\n",
    "            layer = getattr(self, f'_conv{i}')\n",
    "            y = F.relu(layer(F.pad(x, (0, math.floor(2 ** (i - 1) * (self.__kernel_size - 1)))))\n",
    "            print(x.shape)\n",
    "            print(y.shape)\n",
    "            x = torch.cat((x, y), 1)\n",
    "        return x\n",
    "        \n",
    "    def forward(self, predictions, theta):\n",
    "        pass"
   ]
  },
  {
   "cell_type": "code",
   "execution_count": 4,
   "metadata": {},
   "outputs": [
    {
     "name": "stdout",
     "output_type": "stream",
     "text": [
      "tensor([[-0.0484, -0.2851, -1.3685,  1.0664,  0.4960, -0.0038,  0.3506,  1.4215,\n",
      "         -0.5310, -1.4135,  1.1346,  2.1776, -0.3570, -0.1409,  1.4092,  0.0000],\n",
      "        [ 1.9782,  0.7242,  1.5066,  0.1234,  1.3783, -0.4453,  0.9617, -1.9045,\n",
      "          0.6325, -0.0239, -1.5521,  0.1781,  1.4157,  1.0639, -1.4331,  0.0000]])\n"
     ]
    }
   ],
   "source": [
    "x = torch.randn(2, 10 + 5)\n",
    "\n",
    "print(F.pad(x, (0, 1)))\n",
    "\n",
    "# c = Critic({}, 10)\n",
    "# c.conv_forward(x)"
   ]
  }
 ],
 "metadata": {
  "kernelspec": {
   "display_name": "Python 3",
   "language": "python",
   "name": "python3"
  },
  "language_info": {
   "codemirror_mode": {
    "name": "ipython",
    "version": 3
   },
   "file_extension": ".py",
   "mimetype": "text/x-python",
   "name": "python",
   "nbconvert_exporter": "python",
   "pygments_lexer": "ipython3",
   "version": "3.6.9"
  }
 },
 "nbformat": 4,
 "nbformat_minor": 2
}
